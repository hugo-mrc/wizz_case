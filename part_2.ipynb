{
 "cells": [
  {
   "cell_type": "code",
   "execution_count": null,
   "metadata": {},
   "outputs": [],
   "source": [
    "import matplotlib.pyplot as plt\n",
    "import pandas as pd\n",
    "import seaborn as sns\n",
    "from scipy.stats import mannwhitneyu\n"
   ]
  },
  {
   "cell_type": "code",
   "execution_count": null,
   "metadata": {},
   "outputs": [],
   "source": [
    "data = pd.read_csv(\"./ab_test.csv\")"
   ]
  },
  {
   "cell_type": "code",
   "execution_count": null,
   "metadata": {},
   "outputs": [],
   "source": [
    "data.isnull().mean()"
   ]
  },
  {
   "cell_type": "code",
   "execution_count": null,
   "metadata": {},
   "outputs": [],
   "source": [
    "numeric_data = data.select_dtypes(include=[float, int])\n",
    "\n",
    "# Add the 'ab_test_cohort' column back to the numeric data\n",
    "numeric_data['ab_test_cohort'] = data['ab_test_cohort']\n",
    "\n",
    "# Calculate the mean and standard deviation for each metric\n",
    "average_and_std_metrics = numeric_data.groupby('ab_test_cohort').agg(['mean', 'std'])\n",
    "average_and_std_metrics"
   ]
  },
  {
   "cell_type": "code",
   "execution_count": null,
   "metadata": {},
   "outputs": [],
   "source": [
    "# Plotting\n",
    "variables = ['total_revenue', 'iap_revenue', 'ads_revenue', 'sub_revenue', 'meaningful_discussions', 'sessions']\n",
    "for variable in variables:\n",
    "    plt.figure()\n",
    "    sns.histplot(data=data, x=variable, hue='ab_test_cohort', element='step', stat='density', common_norm=False)\n",
    "    plt.title(f'Distribution of {variable}')\n",
    "    plt.show()"
   ]
  },
  {
   "cell_type": "markdown",
   "metadata": {},
   "source": [
    "### Because there is no normal distribution we opt for a non paramtric test for all the metrics"
   ]
  },
  {
   "cell_type": "code",
   "execution_count": null,
   "metadata": {},
   "outputs": [],
   "source": [
    "def non_param_test(data: pd.DataFrame, column: str):\n",
    "    control_sessions = data[data['ab_test_cohort'] == 'control'][column]\n",
    "    test_sessions = data[data['ab_test_cohort'] == 'test'][column]\n",
    "\n",
    "    # Conducting the Mann-Whitney U Test\n",
    "    stat, p_value = mannwhitneyu(control_sessions, test_sessions, alternative='two-sided')\n",
    "    delta = test_sessions.mean() - control_sessions.mean()\n",
    "    print(f'Mann-Whitney U statistic: {stat}')\n",
    "    print(f'change: {delta}')\n",
    "    print(f'P-value: {p_value}')\n",
    "\n",
    "    return [column, control_sessions.mean(), test_sessions.mean(), delta, delta/control_sessions.mean(), p_value]"
   ]
  },
  {
   "cell_type": "code",
   "execution_count": 33,
   "metadata": {},
   "outputs": [
    {
     "name": "stdout",
     "output_type": "stream",
     "text": [
      "\n",
      "total_revenue\n",
      "Mann-Whitney U statistic: 1952298585.0\n",
      "change: -0.003182171690395044\n",
      "P-value: 0.008163835293663428\n",
      "\n",
      "iap_revenue\n",
      "Mann-Whitney U statistic: 1935389043.5\n",
      "change: -0.0038231883464387995\n",
      "P-value: 0.2897036492035806\n",
      "\n",
      "ads_revenue\n",
      "Mann-Whitney U statistic: 1953234304.5\n",
      "change: -0.0009828343130910133\n",
      "P-value: 0.005102095708061895\n",
      "\n",
      "sub_revenue\n",
      "Mann-Whitney U statistic: 1936189099.5\n",
      "change: 0.0017355751291245336\n",
      "P-value: 0.9527956096631967\n",
      "\n",
      "meaningful_discussions\n",
      "Mann-Whitney U statistic: 1901015087.0\n",
      "change: 0.04696797588128132\n",
      "P-value: 2.1925116647319975e-12\n",
      "\n",
      "sessions\n",
      "Mann-Whitney U statistic: 1921981266.0\n",
      "change: 0.6085534697122092\n",
      "P-value: 0.02526004654664607\n"
     ]
    },
    {
     "data": {
      "text/html": [
       "<div>\n",
       "<style scoped>\n",
       "    .dataframe tbody tr th:only-of-type {\n",
       "        vertical-align: middle;\n",
       "    }\n",
       "\n",
       "    .dataframe tbody tr th {\n",
       "        vertical-align: top;\n",
       "    }\n",
       "\n",
       "    .dataframe thead th {\n",
       "        text-align: right;\n",
       "    }\n",
       "</style>\n",
       "<table border=\"1\" class=\"dataframe\">\n",
       "  <thead>\n",
       "    <tr style=\"text-align: right;\">\n",
       "      <th></th>\n",
       "      <th>Metric</th>\n",
       "      <th>Control</th>\n",
       "      <th>Test</th>\n",
       "      <th>Relative Change</th>\n",
       "      <th>absolute change</th>\n",
       "      <th>P-value</th>\n",
       "    </tr>\n",
       "  </thead>\n",
       "  <tbody>\n",
       "    <tr>\n",
       "      <th>0</th>\n",
       "      <td>total_revenue</td>\n",
       "      <td>0.080094</td>\n",
       "      <td>0.076912</td>\n",
       "      <td>-0.003182</td>\n",
       "      <td>-0.039731</td>\n",
       "      <td>8.163835e-03</td>\n",
       "    </tr>\n",
       "    <tr>\n",
       "      <th>1</th>\n",
       "      <td>iap_revenue</td>\n",
       "      <td>0.040018</td>\n",
       "      <td>0.036195</td>\n",
       "      <td>-0.003823</td>\n",
       "      <td>-0.095537</td>\n",
       "      <td>2.897036e-01</td>\n",
       "    </tr>\n",
       "    <tr>\n",
       "      <th>2</th>\n",
       "      <td>ads_revenue</td>\n",
       "      <td>0.017381</td>\n",
       "      <td>0.016398</td>\n",
       "      <td>-0.000983</td>\n",
       "      <td>-0.056546</td>\n",
       "      <td>5.102096e-03</td>\n",
       "    </tr>\n",
       "    <tr>\n",
       "      <th>3</th>\n",
       "      <td>sub_revenue</td>\n",
       "      <td>0.022695</td>\n",
       "      <td>0.024430</td>\n",
       "      <td>0.001736</td>\n",
       "      <td>0.076475</td>\n",
       "      <td>9.527956e-01</td>\n",
       "    </tr>\n",
       "    <tr>\n",
       "      <th>4</th>\n",
       "      <td>meaningful_discussions</td>\n",
       "      <td>0.825523</td>\n",
       "      <td>0.872491</td>\n",
       "      <td>0.046968</td>\n",
       "      <td>0.056895</td>\n",
       "      <td>2.192512e-12</td>\n",
       "    </tr>\n",
       "    <tr>\n",
       "      <th>5</th>\n",
       "      <td>sessions</td>\n",
       "      <td>29.708419</td>\n",
       "      <td>30.316973</td>\n",
       "      <td>0.608553</td>\n",
       "      <td>0.020484</td>\n",
       "      <td>2.526005e-02</td>\n",
       "    </tr>\n",
       "  </tbody>\n",
       "</table>\n",
       "</div>"
      ],
      "text/plain": [
       "                   Metric    Control       Test  Relative Change  \\\n",
       "0           total_revenue   0.080094   0.076912        -0.003182   \n",
       "1             iap_revenue   0.040018   0.036195        -0.003823   \n",
       "2             ads_revenue   0.017381   0.016398        -0.000983   \n",
       "3             sub_revenue   0.022695   0.024430         0.001736   \n",
       "4  meaningful_discussions   0.825523   0.872491         0.046968   \n",
       "5                sessions  29.708419  30.316973         0.608553   \n",
       "\n",
       "   absolute change       P-value  \n",
       "0        -0.039731  8.163835e-03  \n",
       "1        -0.095537  2.897036e-01  \n",
       "2        -0.056546  5.102096e-03  \n",
       "3         0.076475  9.527956e-01  \n",
       "4         0.056895  2.192512e-12  \n",
       "5         0.020484  2.526005e-02  "
      ]
     },
     "execution_count": 33,
     "metadata": {},
     "output_type": "execute_result"
    }
   ],
   "source": [
    "columns = ['total_revenue', 'iap_revenue', 'ads_revenue', 'sub_revenue', 'meaningful_discussions', 'sessions']\n",
    "final_table = []\n",
    "for column in columns:\n",
    "    print(f'\\n{column}')\n",
    "    final_table.append(non_param_test(data, column))\n",
    "\n",
    "pd.DataFrame(final_table, columns=['Metric', 'Control', 'Test', 'Relative Change', 'absolute change', 'P-value'])"
   ]
  }
 ],
 "metadata": {
  "kernelspec": {
   "display_name": "base",
   "language": "python",
   "name": "python3"
  },
  "language_info": {
   "codemirror_mode": {
    "name": "ipython",
    "version": 3
   },
   "file_extension": ".py",
   "mimetype": "text/x-python",
   "name": "python",
   "nbconvert_exporter": "python",
   "pygments_lexer": "ipython3",
   "version": "3.11.7"
  }
 },
 "nbformat": 4,
 "nbformat_minor": 2
}
